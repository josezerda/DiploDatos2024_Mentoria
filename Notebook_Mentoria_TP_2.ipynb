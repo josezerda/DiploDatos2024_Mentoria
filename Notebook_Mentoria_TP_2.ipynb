{
 "cells": [
  {
   "cell_type": "markdown",
   "metadata": {},
   "source": [
    "# Mentoria Trabajo Practico 2"
   ]
  },
  {
   "cell_type": "markdown",
   "metadata": {},
   "source": [
    "### 1.- Hábitos de consumo.\n",
    "\n",
    "Establecer un modelo de hábitos de consumo de la energía eléctrica en los tres tramos\n",
    "horarios establecidos por el mercado, correlacionados por día hábil (weekday) o fin de\n",
    "semana (weekend), condiciones ambientales (temperatura y humedad) y por tipo\n",
    "tarifario.\n",
    "\n",
    "Los tramos horarios son resto (5am a 6pm), pico (6pm a 11pm) y valle (11pm a 5am).\n",
    "\n",
    "#### a.- Calcular consumo en tramos horarios y realizar todas las gráficas que consideren necesarias para explicar los comportamientos y sus relaciones.\n",
    "\n",
    "Algunos ejemplos de hábitos de consumo:\n",
    "\n",
    "Residentes que trabajan fuera del hogar: Pueden tener un bajo consumo de energía\n",
    "durante el día (tramo resto) y un alto consumo en la noche (tramo pico) y madrugada\n",
    "(tramo valle), especialmente durante los fines de semana.\n",
    "\n",
    "Oficinas y negocios: Pueden tener un alto consumo durante las horas laborales (tramo\n",
    "resto) y bajo consumo durante la noche (tramo valle).\n",
    "\n",
    "Uso residencial en climas cálidos: Podrían tener un aumento en el consumo de energía\n",
    "para aire acondicionado durante las horas de mayor temperatura."
   ]
  }
 ],
 "metadata": {
  "language_info": {
   "name": "python"
  }
 },
 "nbformat": 4,
 "nbformat_minor": 2
}
